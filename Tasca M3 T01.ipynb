{
 "cells": [
  {
   "cell_type": "markdown",
   "id": "fea05936",
   "metadata": {},
   "source": [
    "## Exercici 1\n",
    "**Crea una funció que donat un Array d’una dimensió, et faci un resum estadístic bàsic de les dades. Si detecta que l’array té més d’una dimensió, ha de mostrar un missatge d’error.**"
   ]
  },
  {
   "cell_type": "code",
   "execution_count": 1,
   "id": "684fcf9f",
   "metadata": {},
   "outputs": [
    {
     "name": "stdout",
     "output_type": "stream",
     "text": [
      "[ 70 346 471 219 474 220 331 427 304  39   9 188 499 146 353 192 250 301\n",
      " 182 227 486 136  18 298 340 422  62 442 129  50 209 144  26  93 333 294\n",
      "  15 107 101 300 147 438 409 208 146 226 243   0 404 122 276 347 204 134\n",
      " 349   5 120 250 338 119 147 482  39   5 335 261 296   9 474 228 339 299\n",
      " 125 311 405 449  82 365 363 395 432 449 121 372 119 372 134   6 324 417\n",
      " 403 479 321 379 305  68 489  42 196 437  62  32 310 321  37 462 423 404\n",
      " 481 291 205  21 249  26 342  70 113 454 440 138 461  41 316  83  51 129\n",
      " 440 292 111 216 374  69 258 453 255 228 459  91 266  34 277 379 187 133\n",
      " 191 216 215 200 345 400 115  38 253  88 334  73  19 401 246 434  42 200\n",
      " 195  89 149  95  21  85 302 321 402 360 182 116 456 247 461 201 327 197\n",
      " 259 172 124 359 448 281 220 352  76  52 499 383 189 315 102 152  55  64\n",
      "  70 101 254 328 402 173 150  55  18 211 171 261 499 263 494 136  73 442\n",
      " 480 356 348 224  66  94 215 352 394 417 488  69 230 235  54  52 289 184\n",
      "  46  48 277 162 471 418 400  22 390 130  35  97  99 290   1 266 397 189\n",
      " 152 378 152 114 260 426  72 263 367 152  86   3 499 232 384 344 177 407\n",
      " 476  40 184 424  82 369 466 381 424 266  83  89 165  33 157  48 258 397\n",
      " 406 229  83   9  90  63 334 185 163 491 240  76 427 274 182 361 188 476\n",
      " 226 304 444 294  57  60  76 395  79 303 263 154  30 446 337 339 397  39\n",
      " 336 215  36 136 188 333 173 126 387 321 254 460 480 235   5  66 248 494\n",
      " 278 481  51 497 423 366 438 385  18 338 408 117 230 151 309  48 100 113\n",
      " 316 217  76 216 302 398 112 498 191  18 413 384 245 303 302 202 123  75\n",
      " 114 125  42 461 200  28 185 421  98 180 392 481 202 448 219 379 256 341\n",
      " 371 311 337 225 137 325  90 394 361 103 258 165 172 348 489 464 174 458\n",
      "  61 211 228 417 251 166 491  58 440 179 344  62 343 196  39 415 219 243\n",
      " 409 162 171 311 327 440  75 451 456  91 326 198  20 191 242 161 351 434\n",
      " 465 250 479 197 311 374 127 192  53 389  59 290 497 186 306 169 134  75\n",
      " 365 148 270 392 251 355 439 220 436 290 418 192 454 276 163 226  75 413\n",
      " 372  71 275 128 308 396 314  22 386 107 472   9 309 490 445 385 102 388\n",
      " 156  53  62  71 491 485 173 252 127 469  81 151 199  86 304 123 459 484\n",
      " 430 408 131 177 400  65 499  49 227  31  94 442 262 491 198 284 340 238\n",
      " 272 464  28 212 467 496 147 207 399   8 435  32 403 141  93 261  87 102\n",
      "  27 311 353 241 167 145 480  49 158 304 178 342 397 108  52 224  43  38\n",
      "  92 330 451  64 265 468 421 451 262 136 386  89 297 261 286 212 316 315\n",
      " 226 418 184  68 275 213 445 219 140 166 335 245 295 300 335 201 254 494\n",
      " 482 390 161 229  84 335 418  53 488 283 410   1 307 474  37 280 384 299\n",
      " 126 217 138 220 270 363 326 228 390  52  89  40  33 361 351  30 339  11\n",
      " 192 434 363 460 451 152 152 111 445 407  29 258 364 128 168  18 101  69\n",
      " 144 318 483 255 264  96 336 147 147 419 243  75  55 381 158 393 414 206\n",
      " 271 276 352 294 317 184 445 110 232  33 157 260 286  52  71 294 207 488\n",
      "  68  15 308 468 379  92   3 378  63 486 278 103 242 394 193   0 343 436\n",
      " 218 473 183 140 426 352 208 297 113 464 330 178 262 191 410 297 211 353\n",
      "  13 442  22 192 279 371  88  92 373 418 289   3 133 286  21 200 402 260\n",
      " 485 385 170 361 392 410 104 393 291  66  12 101 135 162 491  81 462 143\n",
      " 254 280  10 152 113 302 236 241 179 233 186 334 236 180  50 360 421 352\n",
      "   5 181 220 214 290 482  82 296 259 212 340 419 117  34 288 293 336 357\n",
      " 375  23 206 265 433 218 348 411 460   8 416 228 234 274  50 323 414 321\n",
      " 127 459 443 310 211 255  89 155 116 225 184 164 450 274 456  90 226 493\n",
      " 227 367 187 375 285 401 361 458 400  77  48 106 271 454 357 241 283 287\n",
      " 200  39 234 460 272 323 198 173  80 128 309 325 404 485 363 277 488  48\n",
      " 187 401 406 281 456 318 359 152  27 192 117 169 368 169 112 487 410 396\n",
      "  56 278 459 199  96 230 482 471 171 224   0 346 170 378  86 317 203 124\n",
      " 497 120 215 293  72 176 153 423 391 335 125 357 446 168 361 191 261  28\n",
      " 394 187 122 206 167 290  60 326 284 259 256 354  83 174 334 247 183 457\n",
      " 269 219 423 444 183  88 414  97 427 158 296 162 365 155 207 123 312 373\n",
      " 239 366 269 420 253 310 153 327 404 467 368 388 326 328 386 346  60 129\n",
      " 115 431 126 151 266  25  50 401   3 138]\n"
     ]
    }
   ],
   "source": [
    "import numpy as np\n",
    "import random\n",
    "array = np.random.randint(0,500,1000)\n",
    "print(array)"
   ]
  },
  {
   "cell_type": "code",
   "execution_count": 2,
   "id": "69f80d8d",
   "metadata": {},
   "outputs": [
    {
     "name": "stdout",
     "output_type": "stream",
     "text": [
      "249.859\n"
     ]
    }
   ],
   "source": [
    "# promedio\n",
    "promig = np.mean(array)\n",
    "# mediana\n",
    "mitjana = np.median(array)\n",
    "# desviación\n",
    "desviació = np.std(array)\n",
    "# variancia\n",
    "variança = np.var(array)\n",
    "# calcular les dimensions d'un array, en aquest cas només hi ha un\n",
    "longitud = np.shape(array)\n",
    "#  ens diu cuantes dimensions té el nostre array\n",
    "dimension = array.ndim\n",
    "\n",
    "if dimension == 1:\n",
    "    print(f\"Tenim un array de {dimension} dimensió amb una longitud de {longitud}, un valor promig de {promig} i una desviació típica de {desviació}. \")\n",
    "if  dimension  >= 2:\n",
    "    print(f\"Tenim un array de més d'una dimensió, en total {dimension}, per tant és ERRONI. Podem dir que té una longitud de {longitud}, un valor promig de {promig} i una desviació típica de {desviació}.\" )"
   ]
  },
  {
   "cell_type": "code",
   "execution_count": 13,
   "id": "37e15baa",
   "metadata": {},
   "outputs": [
    {
     "name": "stdout",
     "output_type": "stream",
     "text": [
      "Tenim un array de més d'una dimensió, en total 2, amb una longitd de (3, 3), un valor promig de 14.666666666666666 i una desviació típica de 5.333333333333333.\n"
     ]
    }
   ],
   "source": [
    "# de dos dimensions\n",
    "array2 = np.random.randint(1,30,(3,3))\n",
    "print(array2)\n",
    "longitud2 = np.shape(array2)\n",
    "desviació2 = np.std(array2)\n",
    "promig2 = np.mean(array2)\n",
    "dimension2 = array2.ndim\n",
    "if dimension2 == 1:\n",
    "    print(f\"Tenim un array de {dimension2} dimensió amb una longitud de {longitud2}, un valor promig de {promig2} i una desviació típica de {desviació2}.\")\n",
    "if  dimension2  >= 2:\n",
    "    print(f\"Tenim un array de més d'una dimensió, en total {dimension2}, per tant és ERRONI. Podem dir que té una longitud de {longitud2}, un valor promig de {promig2} i una desviació típica de {desviació2}.\" )"
   ]
  },
  {
   "cell_type": "markdown",
   "id": "465333a8",
   "metadata": {},
   "source": [
    "## Exercici 2\n",
    "**Crea una funció que et generi un quadrat NxN de nombres aleatoris entre el 0 i el 100**"
   ]
  },
  {
   "cell_type": "code",
   "execution_count": 15,
   "id": "07ed309d",
   "metadata": {},
   "outputs": [
    {
     "name": "stdout",
     "output_type": "stream",
     "text": [
      "[[32 37 49 23]\n",
      " [78 68 65 26]\n",
      " [24  8 46 80]\n",
      " [17 16 18 40]]\n"
     ]
    }
   ],
   "source": [
    "n = int ( input ( \"Introdueix un número qualsevol, que servirà per donar longitud a la matriu quadrada:  \" ))\n",
    "matriu = np.random.randint(0,100, size=(n,n))\n",
    "print(matriu)"
   ]
  },
  {
   "cell_type": "markdown",
   "id": "2f8db93b",
   "metadata": {},
   "source": [
    "## Exercici 3\n",
    "**Crea una funció que donada una taula de dues dimensions (NxM), et calculi els totals per fila i els totals per columna.**"
   ]
  },
  {
   "cell_type": "code",
   "execution_count": 22,
   "id": "11a34dc0",
   "metadata": {},
   "outputs": [
    {
     "name": "stdout",
     "output_type": "stream",
     "text": [
      "[[26 35  8]\n",
      " [87 89 35]]\n",
      "Aquest és el valor del sumatori de les columnes [113 124  43] i aquest és el valor de la suma de les files [ 69 211]\n"
     ]
    }
   ],
   "source": [
    "n = int ( input ( \"Introdueix un número qualsevol, que servirà per donar longitud a la matriu quadrada:  \" ))\n",
    "matriu2 = np.random.randint(0,100, size=(n,n+1))\n",
    "print(matriu2)\n",
    "sum_columnes = np.sum(matriu2, axis=0)\n",
    "sum_files = np.sum(matriu2, axis=1)\n",
    "print(f\"Aquest és el valor del sumatori de les columnes {sum_columnes} i aquest és el valor de la suma de les files {sum_files}\")"
   ]
  },
  {
   "cell_type": "markdown",
   "id": "51aa9972",
   "metadata": {},
   "source": [
    "## Exercici 4\n",
    "Implementa manualment una funció que calculi el coeficient de correlació. Informa-te'n sobre els seus usos i interpretació."
   ]
  },
  {
   "cell_type": "code",
   "execution_count": 28,
   "id": "b2f1e5c9",
   "metadata": {},
   "outputs": [
    {
     "data": {
      "text/plain": [
       "array([[1.        , 0.93550714],\n",
       "       [0.93550714, 1.        ]])"
      ]
     },
     "execution_count": 28,
     "metadata": {},
     "output_type": "execute_result"
    }
   ],
   "source": [
    "m = [2, 3, 4, 4, 5, 6, 6, 7, 7, 8, 10, 10]\n",
    "f = [1, 3, 2, 4, 4, 4, 6, 4, 6, 7, 9, 10]\n",
    "np.corrcoef(m, f) "
   ]
  },
  {
   "cell_type": "code",
   "execution_count": 29,
   "id": "5df48419",
   "metadata": {},
   "outputs": [
    {
     "name": "stdout",
     "output_type": "stream",
     "text": [
      "0.9355071411331456\n"
     ]
    }
   ],
   "source": [
    "# per poder extreure el coeficient de correlació tenim que dividir la covariança ( (array-promig)*(array-promig)/quantitat de valors-1) dividit per (desviació tipica de m*f). \n",
    "promig_m = np.mean(m)\n",
    "promig_f = np.mean(f)\n",
    "\n",
    "covariança_m = m-promig_m*np.array([1]*len(m))\n",
    "covariança_f = f-promig_f*np.array([1]*len(f))\n",
    "\n",
    "\n",
    "numerador = np.dot(covariança_m, covariança_f)\n",
    "\n",
    "\n",
    "desviacion_m = np.linalg.norm(covariança_m)\n",
    "desviacion_f = np.linalg.norm(covariança_f)\n",
    "\n",
    "denominador = desviacion_m*desviacion_f\n",
    "\n",
    "\n",
    "coeficiente_correlacion = numerador/denominador\n",
    "print(coeficiente_correlacion)\n"
   ]
  },
  {
   "cell_type": "code",
   "execution_count": 32,
   "id": "a6a0c328",
   "metadata": {},
   "outputs": [
    {
     "name": "stdout",
     "output_type": "stream",
     "text": [
      "correlació fuerte\n"
     ]
    }
   ],
   "source": [
    "# Entre 0 y 0,10: correlación inexistente / Entre 0,10 y 0,29: correlación débil / Entre 0,30 y 0,50: correlación moderada / Entre 0,50 y 1,00: correlación fuerte si els valors son negatius en estan indicant que és una correlació inversa\n",
    "coeficiente_correlacion1 = -0.13\n",
    "if coeficiente_correlacion > 0 and coeficiente_correlacion <= 0.10:\n",
    "     print(\"Correlació inexistent\")\n",
    "if coeficiente_correlacion > 0.10 and coeficiente_correlacion <= 0.29:\n",
    "     print(\"correlació débil\")\n",
    "if coeficiente_correlacion > 0.30 and coeficiente_correlacion <= 0.50:\n",
    "     print(\"correlació moderada\")\n",
    "if coeficiente_correlacion > 0.50 and coeficiente_correlacion <= 1:\n",
    "     print(\"correlació fuerte\")"
   ]
  },
  {
   "cell_type": "code",
   "execution_count": null,
   "id": "157b9efb",
   "metadata": {},
   "outputs": [],
   "source": [
    "# la fòrmula d'abans l'he tret i adapatada al meu exercici, el meu intent ha sigut aquest i que ha resultat desastrós\n",
    "\n",
    "m = [2, 3, 4, 4, 5, 6, 6, 7, 7, 8, 10, 10]\n",
    "f = [1, 3, 2, 4, 4, 4, 6, 4, 6, 7, 9, 10]\n",
    "np.corrcoef(m, f) \n",
    "\n",
    "promig_m = np.mean(m)\n",
    "print(promig_m)\n",
    "promig_f = np.mean(f)\n",
    "print(promig_f)\n",
    "\n",
    "cantidad_m = len(m)-1\n",
    "print(cantidad_m)\n",
    "cantidad_f = len(f)-1\n",
    "\n",
    "covariancia_m = m-promig_m/cantidad_m \n",
    "print(covariancia_m)\n",
    "\n",
    "covariancia_f = f-promig_f/cantidad_f\n",
    "print(covariancia_f)\n",
    "\n",
    "# aqui els resultats de la covariancia ja no son els que hauria :S"
   ]
  }
 ],
 "metadata": {
  "kernelspec": {
   "display_name": "base",
   "language": "python",
   "name": "python3"
  },
  "language_info": {
   "codemirror_mode": {
    "name": "ipython",
    "version": 3
   },
   "file_extension": ".py",
   "mimetype": "text/x-python",
   "name": "python",
   "nbconvert_exporter": "python",
   "pygments_lexer": "ipython3",
   "version": "3.9.13"
  },
  "vscode": {
   "interpreter": {
    "hash": "98f172cbe11f19defcf71bc46ba7f3d93366c790b3b32f3e2400b1570ea5e57d"
   }
  }
 },
 "nbformat": 4,
 "nbformat_minor": 5
}
