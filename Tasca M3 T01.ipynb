{
 "cells": [
  {
   "cell_type": "markdown",
   "id": "fea05936",
   "metadata": {},
   "source": [
    "## Exercici 1\n",
    "**Crea una funció que donat un Array d’una dimensió, et faci un resum estadístic bàsic de les dades. Si detecta que l’array té més d’una dimensió, ha de mostrar un missatge d’error.**"
   ]
  },
  {
   "cell_type": "code",
   "execution_count": 10,
   "id": "684fcf9f",
   "metadata": {},
   "outputs": [
    {
     "name": "stdout",
     "output_type": "stream",
     "text": [
      "[ 62 133 235 147 141 179 252 434 365 121 260 493  26  93  49  85 146 482\n",
      " 475 233 190 362 208  18 340 338 197 434 484 311 411  15 332 256 176 442\n",
      " 144  50  20 434 211 295 261 380 176  83 274 344 499 368 210  27  49 339\n",
      "   5 208 441 444 348 364 380 271 193 128 299  61 392 329   0 310 172 422\n",
      " 437 372  20 317 318 422   4 355 483 361 331 224 242 154 496 294   2 453\n",
      "  92 127 213 477 446  69 113 164 305 365 224 428 443 428 153  78 351  10\n",
      " 416  94 162 450 191 260 234 414 349 226 430  38 341 311 316 395  14 255\n",
      "  10  39 297  25 338 201 250 159 124  58 305  46  11 252 243  74 138  22\n",
      "   6 268   1 164 314 333 344  72  68 311 275 148 282 443 388 283 444 271\n",
      " 449 284 119 295 390 371 140  31  78 396  94 328 123 397 277 390 345 495\n",
      " 307 208 278 130 382 162 361 183 179 132 481 318  37 389 337 390 205 302\n",
      " 436 386 172 421 196 229  87 258 435 304 197 369 328 189  38 426  12 222\n",
      "   1 406 487 202  23 124 192  95 366 206 130 359 241 156 333 421 135  32\n",
      " 111 248 393 147 252 376 402 326 229 157 158  48 406 208 293 442 220  80\n",
      " 218 334  97 452  25 346 259 477 258  38 194 453 179 397 235  58 144 268\n",
      " 294 495 473 286 250  18 158  58 345 191 344 182 273  45 239  10 363  94\n",
      " 312 489 458 468 409 448 395 423 318 427  66 491 237 177 327 199  77 475\n",
      " 357  66 123 303  28 311 436  97 187  25 342 412  71 337 469 244 427 374\n",
      " 469 215 107 410 137 327 408 117 332  29 361 250 132 333  51 359 267 288\n",
      " 413 377 203 349  89  24  32 136  46 295  89 444 437 131 376 295 142 230\n",
      " 119 310  57  37 135 402 271 365 312 140  91 495 394 389 119 347  49 140\n",
      " 426 416 319 266  57 278 202 222 365 377 342 115 283 228 316 220 106 126\n",
      "   1 497 105 161  35 187 338   0 275  17 255 446  46 213 157 299 158 196\n",
      " 466 147 195 454  29 348 436 352  68  12 243  89 428 427 356 316 100 447\n",
      " 405 138 431 183  72 357 130 435 408 394 347 262 481 181 354 319  29 382\n",
      " 258 218   8 449  96 219 187 499 356  66 199 202 134 429 196 381 112 229\n",
      " 292 377  27 108 144 183 137 382 151  25  80   6 377  91 485 214 375  73\n",
      "  17 417 260  36 424 395 303  83 435 323 410 126 164  71 444 272  32 112\n",
      " 248 131 256  15 390 416  32  37 167 335 339 317 164  81 108 239 239 100\n",
      " 399 227  21 159 323 263 480 264 194  40 362 474 350 133 482 166  37 113\n",
      "  32 155 475 261 157 101 126  54 419 382 354  30 267 237 230 186 257 426\n",
      "  96 160 487 231 155 477 351 314 200 196 275  49 188 243 384  40 111 354\n",
      " 401 363 400 105 401 280 452  83 473 261 258 194 476 111 409   7 446  86\n",
      " 396 227 172 358  54 251 493 433 187 427 147 415 373 373 440 170 209  80\n",
      "  40  27  58 398 245  32 220 185  75 428 271 150 412 120  48 176 303 269\n",
      "  76 262 195 412 274 281 120 289 324 122 489 238 399 200 396 460 297 289\n",
      " 289 406  27 294 418 171 184  96 179 219  41 112 396 262 169 258 232  98\n",
      " 255 211 251 384 417 112 404 450 248 450  48   3 177 252 296 339 324 495\n",
      "   6 159 332  82 479 408 203  72 432 441 177 197 161 406 119  20 112  67\n",
      "  70 220 353 165 339 363 493 425  81 180  48  48 123 361 317 436 207 351\n",
      " 450 198 233 482 314 368 339 280 214 377 436 472 452 304 307 478 296 200\n",
      " 304 281  41 373  33 426 376 305 325 483 168 375 245 456 478 458 372 422\n",
      " 165 411 208 209 210 190 292 437 117 259 469 385 454  26 278 423  86 302\n",
      " 396 448 327  46  46   0 248 300 415 463  90 378 138 216 472 159 155  72\n",
      "   3   9 349 489 467  85 346 481 442 116 285 267 471 463 219 337  15 216\n",
      " 326 436  50 451 328 464 246 473 486 348 320 305 241 108  30 288 429  78\n",
      " 424  74  58 395 155  48  75 422 326 222 120  53 354  89 475 274 446 154\n",
      " 489 277 336 458  20 401  80 460  53 148 471 251 416 382 193 169 288 492\n",
      " 322 465 115 393 493 295 298 201 329 321 184  94 317 345 213 257 318 175\n",
      " 188  43  37 173 448 288 440 112 254 292  27  70 365 364 377 274 245 461\n",
      " 369 356 143  15 467 126 113 114 246 360 294 310 431 157 269 455 486 242\n",
      " 209 426 444 433 211 321  46 271 404  52 306 352 107  65  28 137   7 185\n",
      " 146 129 186 236 429 465 446 305 345 432  55 386 372 145 386 324 399  49\n",
      " 282 185 437   3 385 260 292 112 183 116 176 341  53 208 202   0 297 395\n",
      "  51 465 116 393 311 480  83 141 201 466 475 330  55  17 158 373 159 155\n",
      " 314 338 220 234 132 459 313  83 331  59]\n"
     ]
    }
   ],
   "source": [
    "import numpy as np\n",
    "import random\n",
    "array = np.random.randint(0,500,1000)\n",
    "print(array)"
   ]
  },
  {
   "cell_type": "code",
   "execution_count": 29,
   "id": "69f80d8d",
   "metadata": {},
   "outputs": [
    {
     "name": "stdout",
     "output_type": "stream",
     "text": [
      "254.032\n"
     ]
    }
   ],
   "source": [
    "# promedio\n",
    "promig = np.mean(array)\n",
    "print(promig)"
   ]
  },
  {
   "cell_type": "code",
   "execution_count": 30,
   "id": "de426142",
   "metadata": {},
   "outputs": [
    {
     "name": "stdout",
     "output_type": "stream",
     "text": [
      "259.0\n"
     ]
    }
   ],
   "source": [
    "# mediana\n",
    "mitjana = np.median(array)\n",
    "print(mitjana)"
   ]
  },
  {
   "cell_type": "code",
   "execution_count": 31,
   "id": "de887be5",
   "metadata": {},
   "outputs": [
    {
     "name": "stdout",
     "output_type": "stream",
     "text": [
      "143.0214004126655\n"
     ]
    }
   ],
   "source": [
    "# desviación\n",
    "desviació = np.std(array)\n",
    "print(desviació)"
   ]
  },
  {
   "cell_type": "code",
   "execution_count": 32,
   "id": "4fe0e1e7",
   "metadata": {},
   "outputs": [
    {
     "name": "stdout",
     "output_type": "stream",
     "text": [
      "20455.120976\n"
     ]
    }
   ],
   "source": [
    "# variancia\n",
    "variança = np.var(array)\n",
    "print(variança)"
   ]
  },
  {
   "cell_type": "code",
   "execution_count": 15,
   "id": "27dfbfac",
   "metadata": {},
   "outputs": [
    {
     "data": {
      "text/plain": [
       "259.0"
      ]
     },
     "execution_count": 15,
     "metadata": {},
     "output_type": "execute_result"
    }
   ],
   "source": [
    "# perceptil 50\n",
    "np.percentile(array, 50)"
   ]
  },
  {
   "cell_type": "code",
   "execution_count": 37,
   "id": "c7b1f30f",
   "metadata": {},
   "outputs": [
    {
     "name": "stdout",
     "output_type": "stream",
     "text": [
      "(1000,)\n"
     ]
    }
   ],
   "source": [
    "# calcular les dimensions d'un array, en aquest cas només hi ha un\n",
    "longitud = np.shape(array)\n",
    "print(longitud)"
   ]
  },
  {
   "cell_type": "code",
   "execution_count": 26,
   "id": "27ae0c54",
   "metadata": {},
   "outputs": [
    {
     "name": "stdout",
     "output_type": "stream",
     "text": [
      "1\n"
     ]
    }
   ],
   "source": [
    "#  ens diu cuantes dimensions té el nostre array\n",
    "dimension = array.ndim\n",
    "print(dimension)"
   ]
  },
  {
   "cell_type": "code",
   "execution_count": 33,
   "id": "0995fb98",
   "metadata": {},
   "outputs": [
    {
     "name": "stdout",
     "output_type": "stream",
     "text": [
      "Error, té més d'una dimensió\n"
     ]
    }
   ],
   "source": [
    "if  dimension  >= 1:\n",
    "    print( \"Error, té més d'una dimensió\" )"
   ]
  },
  {
   "cell_type": "code",
   "execution_count": 39,
   "id": "ddef85bf",
   "metadata": {},
   "outputs": [
    {
     "name": "stdout",
     "output_type": "stream",
     "text": [
      "Tenim un array de 1 dimensió amb una longitud de (1000,), un valor promig de 254.032 i una desviació típica de 143.0214004126655. \n"
     ]
    }
   ],
   "source": [
    "if dimension == 1:\n",
    "    print(f\"Tenim un array de {dimension} dimensió amb una longitud de {longitud}, un valor promig de {promig} i una desviació típica de {desviació}. \")"
   ]
  },
  {
   "cell_type": "code",
   "execution_count": 42,
   "id": "38920689",
   "metadata": {},
   "outputs": [],
   "source": [
    "if  dimension  >= 2:\n",
    "    print(f\"Tenim un array de més d'una dimensió, en total {dimension}, amb una longitd de {longitud}, un valor promig de {promig} i una desviació típica de {desviació}.\" )"
   ]
  },
  {
   "cell_type": "code",
   "execution_count": 45,
   "id": "32189c51",
   "metadata": {},
   "outputs": [
    {
     "name": "stdout",
     "output_type": "stream",
     "text": [
      "[[ 4 26 24]\n",
      " [ 4 23  8]\n",
      " [ 2 25 10]]\n"
     ]
    }
   ],
   "source": [
    "array2 = np.random.randint(1,30,(3,3))\n",
    "print(array2)"
   ]
  },
  {
   "cell_type": "code",
   "execution_count": 49,
   "id": "37e15baa",
   "metadata": {},
   "outputs": [
    {
     "name": "stdout",
     "output_type": "stream",
     "text": [
      "Tenim un array de més d'una dimensió, en total 2, amb una longitd de (3, 3), un valor promig de 14.0 i una desviació típica de 9.672412085697939.\n"
     ]
    }
   ],
   "source": [
    "longitud2 = np.shape(array2)\n",
    "desviació2 = np.std(array2)\n",
    "promig2 = np.mean(array2)\n",
    "dimension2 = array2.ndim\n",
    "if dimension2 == 1:\n",
    "    print(f\"Tenim un array de {dimension2} dimensió amb una longitud de {longitud2}, un valor promig de {promig2} i una desviació típica de {desviació2}.\")\n",
    "if  dimension2  >= 2:\n",
    "    print(f\"Tenim un array de més d'una dimensió, en total {dimension2}, amb una longitd de {longitud2}, un valor promig de {promig2} i una desviació típica de {desviació2}.\" )"
   ]
  },
  {
   "cell_type": "markdown",
   "id": "465333a8",
   "metadata": {},
   "source": [
    "## Exercici 2\n",
    "**Crea una funció que et generi un quadrat NxN de nombres aleatoris entre el 0 i el 100**"
   ]
  },
  {
   "cell_type": "code",
   "execution_count": 54,
   "id": "1e96ba83",
   "metadata": {},
   "outputs": [
    {
     "name": "stdout",
     "output_type": "stream",
     "text": [
      "[[11 55 61 32 87]\n",
      " [64 22 20 93 18]\n",
      " [75 40 70 54  4]\n",
      " [16 71 11 21 15]\n",
      " [44 23 22 13 45]]\n"
     ]
    }
   ],
   "source": [
    "matriu = np.random.randint(0,100, size=(5,5))\n",
    "print(matriu)"
   ]
  },
  {
   "cell_type": "code",
   "execution_count": null,
   "id": "07ed309d",
   "metadata": {},
   "outputs": [],
   "source": [
    "n = int ( input ( \"Introdueix un número qualsevol, que servirà per donar longitud a la matriu quadrada:  \" ))"
   ]
  },
  {
   "cell_type": "code",
   "execution_count": null,
   "id": "92c03a8d",
   "metadata": {},
   "outputs": [],
   "source": [
    "matriu = np.random.randint(0,100, size=(n,n))\n",
    "print(matriu)"
   ]
  },
  {
   "cell_type": "markdown",
   "id": "2f8db93b",
   "metadata": {},
   "source": [
    "## Exercici 3\n",
    "**Crea una funció que donada una taula de dues dimensions (NxM), et calculi els totals per fila i els totals per columna.**"
   ]
  },
  {
   "cell_type": "code",
   "execution_count": null,
   "id": "11a34dc0",
   "metadata": {},
   "outputs": [],
   "source": [
    "matriu2 = np.random.randint(0,100, size=(4,5))\n",
    "print(matriu2)"
   ]
  },
  {
   "cell_type": "code",
   "execution_count": null,
   "id": "ea94050e",
   "metadata": {},
   "outputs": [],
   "source": [
    "# suma per columnes\n",
    "np.sum(values, axis=0)"
   ]
  },
  {
   "cell_type": "code",
   "execution_count": null,
   "id": "fda387e9",
   "metadata": {},
   "outputs": [],
   "source": [
    "# suma per files\n",
    "np.sum(values, axis=1)"
   ]
  },
  {
   "cell_type": "markdown",
   "id": "51aa9972",
   "metadata": {},
   "source": [
    "## Exercici 4\n",
    "Implementa manualment una funció que calculi el coeficient de correlació. Informa-te'n sobre els seus usos i interpretació."
   ]
  },
  {
   "cell_type": "code",
   "execution_count": null,
   "id": "68caa80f",
   "metadata": {},
   "outputs": [],
   "source": [
    "matriu2 = np.random.randint(0,100, size=(4,5))\n",
    "print(mat)\n",
    "corr_mat = datos.corr(method='pearson')\n",
    "print(corr_mat)"
   ]
  },
  {
   "cell_type": "code",
   "execution_count": null,
   "id": "b2f1e5c9",
   "metadata": {},
   "outputs": [],
   "source": []
  }
 ],
 "metadata": {
  "kernelspec": {
   "display_name": "base",
   "language": "python",
   "name": "python3"
  },
  "language_info": {
   "codemirror_mode": {
    "name": "ipython",
    "version": 3
   },
   "file_extension": ".py",
   "mimetype": "text/x-python",
   "name": "python",
   "nbconvert_exporter": "python",
   "pygments_lexer": "ipython3",
   "version": "3.9.13 (main, Aug 25 2022, 23:51:50) [MSC v.1916 64 bit (AMD64)]"
  },
  "vscode": {
   "interpreter": {
    "hash": "98f172cbe11f19defcf71bc46ba7f3d93366c790b3b32f3e2400b1570ea5e57d"
   }
  }
 },
 "nbformat": 4,
 "nbformat_minor": 5
}
